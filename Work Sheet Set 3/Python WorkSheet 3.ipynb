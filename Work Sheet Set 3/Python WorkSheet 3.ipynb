{
 "cells": [
  {
   "cell_type": "code",
   "execution_count": 1,
   "id": "5bc224eb",
   "metadata": {},
   "outputs": [
    {
     "name": "stdout",
     "output_type": "stream",
     "text": [
      "Enter the level of the pyramid: 5\n",
      "    *\n",
      "   ***\n",
      "  *****\n",
      " *******\n",
      "*********\n"
     ]
    }
   ],
   "source": [
    "# Define a function to print a pyramid of stars\n",
    "def print_pyramid(level):\n",
    "  # Loop from 1 to level\n",
    "  for i in range(1, level + 1):\n",
    "    # Print spaces before stars\n",
    "    for j in range(level - i):\n",
    "      print(\" \", end=\"\")\n",
    "    # Print stars\n",
    "    for k in range(2 * i - 1):\n",
    "      print(\"*\", end=\"\")\n",
    "    # Print newline after each row\n",
    "    print()\n",
    "\n",
    "# Take user input for level\n",
    "try:\n",
    "  level = int(input(\"Enter the level of the pyramid: \"))\n",
    "except ValueError:\n",
    "  # Invalid input type\n",
    "  print(\"Please enter a valid integer\")\n",
    "else:\n",
    "  # Check if level is positive\n",
    "  if level > 0:\n",
    "    # Call the function with user input value\n",
    "    print_pyramid(level)\n",
    "  else:\n",
    "    # Invalid input for pyramid level\n",
    "    print(\"Please enter a positive integer\")"
   ]
  },
  {
   "cell_type": "code",
   "execution_count": 2,
   "id": "57b96a67",
   "metadata": {},
   "outputs": [
    {
     "name": "stdout",
     "output_type": "stream",
     "text": [
      "Enter the number of rows: 5\n",
      "*********\n",
      " *******\n",
      "  *****\n",
      "   ***\n",
      "    *\n",
      "   ***\n",
      "  *****\n",
      " *******\n",
      "*********\n"
     ]
    }
   ],
   "source": [
    "# Define a function to print an hourglass pattern\n",
    "def print_hourglass(rows):\n",
    "  # Loop from rows to 1\n",
    "  for i in range(rows, 0, -1):\n",
    "    # Print spaces before stars\n",
    "    for j in range(rows - i):\n",
    "      print(\" \", end=\"\")\n",
    "    # Print stars\n",
    "    for k in range(2 * i - 1):\n",
    "      print(\"*\", end=\"\")\n",
    "    # Print newline after each row\n",
    "    print()\n",
    "  # Loop from 2 to rows\n",
    "  for i in range(2, rows + 1):\n",
    "    # Print spaces before stars\n",
    "    for j in range(rows - i):\n",
    "      print(\" \", end=\"\")\n",
    "    # Print stars\n",
    "    for k in range(2 * i - 1):\n",
    "      print(\"*\", end=\"\")\n",
    "    # Print newline after each row\n",
    "    print()\n",
    "\n",
    "# Take user input for rows\n",
    "try:\n",
    "  rows = int(input(\"Enter the number of rows: \"))\n",
    "except ValueError:\n",
    "  # Invalid input type\n",
    "  print(\"Please enter a valid integer\")\n",
    "else:\n",
    "  # Check if rows is positive and odd\n",
    "  if rows > 0 and rows % 2 == 1:\n",
    "    # Call the function with user input value\n",
    "    print_hourglass(rows)\n",
    "  else:\n",
    "    # Invalid input for hourglass pattern\n",
    "    print(\"Please enter a positive odd integer\")"
   ]
  },
  {
   "cell_type": "markdown",
   "id": "f401a8e1",
   "metadata": {},
   "source": [
    "# Write a python function to print Pascal’s Triangle. The number of levels in the triangle must be taken as input by the user. E.g. Input = 5 "
   ]
  },
  {
   "cell_type": "code",
   "execution_count": 3,
   "id": "1dd82941",
   "metadata": {},
   "outputs": [
    {
     "name": "stdout",
     "output_type": "stream",
     "text": [
      "Enter a number : 5\n",
      "1\n",
      "1 1\n",
      "1 2 1\n",
      "1 3 3 1\n",
      "1 4 6 4 1\n"
     ]
    }
   ],
   "source": [
    "def print_pascal(n):\n",
    "  # initialize an empty list to store the triangle\n",
    "  triangle = []\n",
    "  # loop through each level of the triangle\n",
    "  for i in range(n):\n",
    "    # initialize an empty list to store the current row\n",
    "    row = []\n",
    "    # loop through each element of the current row\n",
    "    for j in range(i+1):\n",
    "      # if it is the first or last element, append 1\n",
    "      if j == 0 or j == i:\n",
    "        row.append(1)\n",
    "      # otherwise, append the sum of the previous row's adjacent elements\n",
    "      else:\n",
    "        row.append(triangle[i-1][j-1] + triangle[i-1][j])\n",
    "    # append the current row to the triangle\n",
    "    triangle.append(row)\n",
    "  # loop through each row of the triangle and print it with spaces\n",
    "  for r in triangle:\n",
    "    print(\" \".join(map(str,r)))\n",
    "    \n",
    "n = int(input(\"Enter a number : \"))\n",
    "if n>0:\n",
    "    print_pascal(n)\n",
    "else:\n",
    "    # Invalid input for hourglass pattern\n",
    "    print(\"Please enter a positive integer\")"
   ]
  },
  {
   "cell_type": "markdown",
   "id": "c8d3a692",
   "metadata": {},
   "source": [
    "# Write a python function to print Diamond Shaped Pattern shown below. Function must take integer input which represents the number of stars in the middle most line. E.g.: Input = 5 "
   ]
  },
  {
   "cell_type": "code",
   "execution_count": 4,
   "id": "03a40d36",
   "metadata": {},
   "outputs": [
    {
     "name": "stdout",
     "output_type": "stream",
     "text": [
      "Enter a number : 5\n",
      "  *\n",
      " ***\n",
      "*****\n",
      " ***\n",
      "  *\n"
     ]
    }
   ],
   "source": [
    "def print_diamond(n):\n",
    "  # check if n is odd and positive\n",
    "  if n % 2 == 1 and n > 0:\n",
    "    # calculate the number of rows in the upper half of the diamond\n",
    "    upper_rows = (n + 1) // 2\n",
    "    # loop through each row in the upper half\n",
    "    for i in range(upper_rows):\n",
    "      # calculate the number of spaces and stars in each row\n",
    "      spaces = upper_rows - i - 1\n",
    "      stars = i * 2 + 1\n",
    "      # print spaces followed by stars\n",
    "      print(\" \" * spaces + \"*\" * stars)\n",
    "    # calculate the number of rows in the lower half of the diamond\n",
    "    lower_rows = n - upper_rows\n",
    "    # loop through each row in the lower half\n",
    "    for j in range(lower_rows):\n",
    "      # calculate the number of spaces and stars in each row\n",
    "      spaces = j + 1\n",
    "      stars = n - (j + 1) * 2 \n",
    "      # print spaces followed by stars\n",
    "      print(\" \" * spaces + \"*\" * stars)\n",
    "\n",
    "n = int(input(\"Enter a number : \"))\n",
    "if n>2:\n",
    "    print_diamond(n)\n",
    "else:\n",
    "    # Invalid input for hourglass pattern\n",
    "    print(\"Please enter a positive integer, greater than 2 for forming diamond\")"
   ]
  },
  {
   "cell_type": "markdown",
   "id": "449a8791",
   "metadata": {},
   "source": [
    "# Write a python function to print Diamond Shaped Character Pattern shown below. Function must take integer input within range 1 to 26, which represents the rank of the alphabet. E.g.:"
   ]
  },
  {
   "cell_type": "code",
   "execution_count": 21,
   "id": "3e399175",
   "metadata": {},
   "outputs": [
    {
     "name": "stdout",
     "output_type": "stream",
     "text": [
      "Enter a number : 5\n",
      "    A\n",
      "   A  B\n",
      "  A  B  C\n",
      " A  B  C  D\n",
      "A  B  C  D  E\n",
      " A  B  C  D  \n",
      "  A  B  C  \n",
      "   A  B  \n",
      "    A  \n"
     ]
    }
   ],
   "source": [
    "def diamond_char(n):\n",
    "  # check if n is within range 1 to 26\n",
    "  if n < 1 or n > 26:\n",
    "    print(\"Invalid input. Please enter an integer between 1 and 26.\")\n",
    "    return\n",
    "  \n",
    "  # create a list of alphabets from A to Z\n",
    "  alphabets = [chr(i) for i in range(65,91)]\n",
    "\n",
    "  # loop from 0 to n-1 for the upper half of the diamond\n",
    "  for i in range(n):\n",
    "    # print spaces before the first alphabet\n",
    "    print(\" \" * (n-i-1), end=\"\")\n",
    "    # loop from 0 to i for the row\n",
    "    for j in range(i+1):\n",
    "      # print the alphabet corresponding to j\n",
    "      print(alphabets[j], end=\"\")\n",
    "      # print two spaces after each alphabet except the last one\n",
    "      if j < i:\n",
    "        print(\" \" * 2, end=\"\")\n",
    "    # move to the next line\n",
    "    print()\n",
    "\n",
    "  # loop from n-2 to -1 for the lower half of the diamond \n",
    "  for i in range(n-2,-1,-1):\n",
    "    # print spaces before the first alphabet\n",
    "    print(\" \" * (n-i-1), end=\"\")\n",
    "    # loop from 0 to i for the row \n",
    "    for j in range(i+1):\n",
    "      #printthealphabetcorrespondingtoj \n",
    "      print(alphabets[j], end=\"  \")\n",
    "    #printtwospacesaftereachalphabetexceptthelastone \n",
    "    if j < i:\n",
    "        print(\" \" *2,end=\"  \")\n",
    "    #movetothenextline \n",
    "    print()\n",
    "    \n",
    "n = int(input(\"Enter a number : \"))\n",
    "\n",
    "diamond_char(n)\n"
   ]
  },
  {
   "cell_type": "code",
   "execution_count": 1,
   "id": "b14b1fdc",
   "metadata": {},
   "outputs": [
    {
     "data": {
      "text/plain": [
       "4"
      ]
     },
     "execution_count": 1,
     "metadata": {},
     "output_type": "execute_result"
    }
   ],
   "source": [
    "round(3.567)"
   ]
  },
  {
   "cell_type": "code",
   "execution_count": 2,
   "id": "5ff0647c",
   "metadata": {},
   "outputs": [
    {
     "data": {
      "text/plain": [
       "65"
      ]
     },
     "execution_count": 2,
     "metadata": {},
     "output_type": "execute_result"
    }
   ],
   "source": [
    "ord(chr(65))"
   ]
  },
  {
   "cell_type": "code",
   "execution_count": 3,
   "id": "506abc50",
   "metadata": {},
   "outputs": [
    {
     "data": {
      "text/plain": [
       "False"
      ]
     },
     "execution_count": 3,
     "metadata": {},
     "output_type": "execute_result"
    }
   ],
   "source": [
    "all([1, 0, 5 ,7])"
   ]
  },
  {
   "cell_type": "code",
   "execution_count": 5,
   "id": "ac267662",
   "metadata": {},
   "outputs": [],
   "source": [
    "import math"
   ]
  },
  {
   "cell_type": "code",
   "execution_count": 6,
   "id": "79b18883",
   "metadata": {},
   "outputs": [
    {
     "name": "stdout",
     "output_type": "stream",
     "text": [
      "5.0\n",
      "5.0\n"
     ]
    }
   ],
   "source": [
    "x = -5.0\n",
    "print(abs(x))      # Output: 5\n",
    "print(math.fabs(x))"
   ]
  },
  {
   "cell_type": "code",
   "execution_count": 7,
   "id": "6e284b00",
   "metadata": {},
   "outputs": [
    {
     "data": {
      "text/plain": [
       "-6.87e+101"
      ]
     },
     "execution_count": 7,
     "metadata": {},
     "output_type": "execute_result"
    }
   ],
   "source": [
    "-68.7e100"
   ]
  },
  {
   "cell_type": "code",
   "execution_count": 8,
   "id": "fe84b9c6",
   "metadata": {},
   "outputs": [
    {
     "data": {
      "text/plain": [
       "42000.0"
      ]
     },
     "execution_count": 8,
     "metadata": {},
     "output_type": "execute_result"
    }
   ],
   "source": [
    "42e3"
   ]
  },
  {
   "cell_type": "code",
   "execution_count": null,
   "id": "7a80a8e2",
   "metadata": {},
   "outputs": [],
   "source": []
  }
 ],
 "metadata": {
  "kernelspec": {
   "display_name": "Python 3 (ipykernel)",
   "language": "python",
   "name": "python3"
  },
  "language_info": {
   "codemirror_mode": {
    "name": "ipython",
    "version": 3
   },
   "file_extension": ".py",
   "mimetype": "text/x-python",
   "name": "python",
   "nbconvert_exporter": "python",
   "pygments_lexer": "ipython3",
   "version": "3.9.12"
  }
 },
 "nbformat": 4,
 "nbformat_minor": 5
}
