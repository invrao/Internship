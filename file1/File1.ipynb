{
 "cells": [
  {
   "cell_type": "code",
   "execution_count": 1,
   "id": "7f4656ca",
   "metadata": {},
   "outputs": [
    {
     "name": "stdout",
     "output_type": "stream",
     "text": [
      "15\n"
     ]
    }
   ],
   "source": [
    "def func(a, b):\n",
    "    return b if a == 0 else func(b % a, a)\n",
    "print(func(30, 75))"
   ]
  },
  {
   "cell_type": "code",
   "execution_count": 9,
   "id": "77b80b01",
   "metadata": {},
   "outputs": [
    {
     "name": "stdout",
     "output_type": "stream",
     "text": [
      "<class 'filter'>\n"
     ]
    }
   ],
   "source": [
    "numbers = (4, 7, 19, 2, 89, 45, 72, 22)\n",
    "sorted_numbers = sorted(numbers)\n",
    "even = lambda a: a % 2 == 0\n",
    "even_numbers = filter(even, sorted_numbers)\n",
    "print(type(even_numbers))\n"
   ]
  },
  {
   "cell_type": "code",
   "execution_count": 3,
   "id": "d9009504",
   "metadata": {},
   "outputs": [],
   "source": [
    "numbers = (4, 7, 19, 2, 89, 45, 72, 22)"
   ]
  },
  {
   "cell_type": "code",
   "execution_count": 5,
   "id": "0a6f5118",
   "metadata": {},
   "outputs": [
    {
     "data": {
      "text/plain": [
       "[2, 4, 7, 19, 22, 45, 72, 89]"
      ]
     },
     "execution_count": 5,
     "metadata": {},
     "output_type": "execute_result"
    }
   ],
   "source": [
    "sorted_numbers = sorted(numbers)\n",
    "sorted_numbers"
   ]
  },
  {
   "cell_type": "code",
   "execution_count": 6,
   "id": "b146e86a",
   "metadata": {},
   "outputs": [],
   "source": [
    "even = lambda a: a % 2 == 0"
   ]
  },
  {
   "cell_type": "code",
   "execution_count": 7,
   "id": "bc9c9af6",
   "metadata": {},
   "outputs": [
    {
     "data": {
      "text/plain": [
       "<filter at 0x28043019e50>"
      ]
     },
     "execution_count": 7,
     "metadata": {},
     "output_type": "execute_result"
    }
   ],
   "source": [
    "even_numbers = filter(even, sorted_numbers)\n",
    "even_numbers"
   ]
  },
  {
   "cell_type": "code",
   "execution_count": 8,
   "id": "a6b2cb7f",
   "metadata": {},
   "outputs": [
    {
     "name": "stdout",
     "output_type": "stream",
     "text": [
      "<class 'filter'>\n"
     ]
    }
   ],
   "source": [
    "print(type(even_numbers))"
   ]
  },
  {
   "cell_type": "code",
   "execution_count": 11,
   "id": "dd1349ed",
   "metadata": {},
   "outputs": [
    {
     "ename": "TypeError",
     "evalue": "unsupported operand type(s) for +: 'set' and 'set'",
     "output_type": "error",
     "traceback": [
      "\u001b[1;31m---------------------------------------------------------------------------\u001b[0m",
      "\u001b[1;31mTypeError\u001b[0m                                 Traceback (most recent call last)",
      "Input \u001b[1;32mIn [11]\u001b[0m, in \u001b[0;36m<cell line: 4>\u001b[1;34m()\u001b[0m\n\u001b[0;32m      2\u001b[0m set2 \u001b[38;5;241m=\u001b[39m {\u001b[38;5;241m82\u001b[39m, \u001b[38;5;241m49\u001b[39m, \u001b[38;5;241m62\u001b[39m}\n\u001b[0;32m      3\u001b[0m set3\u001b[38;5;241m=\u001b[39m{\u001b[38;5;241m99\u001b[39m,\u001b[38;5;241m22\u001b[39m,\u001b[38;5;241m17\u001b[39m}\n\u001b[1;32m----> 4\u001b[0m \u001b[38;5;28mprint\u001b[39m(\u001b[38;5;28mlen\u001b[39m(\u001b[43mset1\u001b[49m\u001b[43m \u001b[49m\u001b[38;5;241;43m+\u001b[39;49m\u001b[43m \u001b[49m\u001b[43mset2\u001b[49m \u001b[38;5;241m+\u001b[39m set3))\n",
      "\u001b[1;31mTypeError\u001b[0m: unsupported operand type(s) for +: 'set' and 'set'"
     ]
    }
   ],
   "source": [
    "set1 = {14, 3, 55}\n",
    "set2 = {82, 49, 62}\n",
    "set3={99,22,17}\n",
    "print(len(set1 + set2 + set3))"
   ]
  },
  {
   "cell_type": "code",
   "execution_count": 13,
   "id": "8064a67b",
   "metadata": {},
   "outputs": [
    {
     "name": "stdout",
     "output_type": "stream",
     "text": [
      "208\n"
     ]
    }
   ],
   "source": [
    "print(4**3 + (7 + 5)**(1 + 1))"
   ]
  },
  {
   "cell_type": "code",
   "execution_count": 1,
   "id": "d8ea5a5b",
   "metadata": {},
   "outputs": [],
   "source": [
    "captains = {\n",
    "\"Enterprise\": \"Picard\",\n",
    "\"Voyager\": \"Janeway\",\n",
    "\"Defiant\": \"Sisko\",\n",
    "}\n"
   ]
  },
  {
   "cell_type": "code",
   "execution_count": 2,
   "id": "98eba135",
   "metadata": {},
   "outputs": [
    {
     "name": "stdout",
     "output_type": "stream",
     "text": [
      "Enterprise Picard\n",
      "Voyager Janeway\n",
      "Defiant Sisko\n"
     ]
    }
   ],
   "source": [
    "for ship, captain in captains.items():\n",
    "    print(ship, captain)\n"
   ]
  },
  {
   "cell_type": "code",
   "execution_count": 3,
   "id": "3951adbf",
   "metadata": {},
   "outputs": [
    {
     "name": "stdout",
     "output_type": "stream",
     "text": [
      "Enterprise Picard\n",
      "Voyager Janeway\n",
      "Defiant Sisko\n"
     ]
    }
   ],
   "source": [
    "for ship in captains:\n",
    "    print(ship, captains[ship])\n"
   ]
  },
  {
   "cell_type": "code",
   "execution_count": 4,
   "id": "e71fb902",
   "metadata": {},
   "outputs": [
    {
     "name": "stdout",
     "output_type": "stream",
     "text": [
      "Enterprise {'Enterprise': 'Picard', 'Voyager': 'Janeway', 'Defiant': 'Sisko'}\n",
      "Voyager {'Enterprise': 'Picard', 'Voyager': 'Janeway', 'Defiant': 'Sisko'}\n",
      "Defiant {'Enterprise': 'Picard', 'Voyager': 'Janeway', 'Defiant': 'Sisko'}\n"
     ]
    }
   ],
   "source": [
    "for ship in captains:\n",
    "    print(ship, captains)\n"
   ]
  },
  {
   "cell_type": "code",
   "execution_count": 5,
   "id": "ade6d206",
   "metadata": {},
   "outputs": [
    {
     "data": {
      "text/plain": [
       "{'Enterprise': 'Picard', 'Voyager': 'Janeway', 'Defiant': 'Sisko'}"
      ]
     },
     "execution_count": 5,
     "metadata": {},
     "output_type": "execute_result"
    }
   ],
   "source": [
    "captains = {}\n",
    "captains = {\n",
    "\"Enterprise\": \"Picard\",\n",
    "\"Voyager\": \"Janeway\",\n",
    "\"Defiant\": \"Sisko\",\n",
    "}\n",
    "captains"
   ]
  },
  {
   "cell_type": "code",
   "execution_count": 6,
   "id": "032c7a18",
   "metadata": {},
   "outputs": [
    {
     "ename": "SyntaxError",
     "evalue": "invalid syntax (229319372.py, line 2)",
     "output_type": "error",
     "traceback": [
      "\u001b[1;36m  Input \u001b[1;32mIn [6]\u001b[1;36m\u001b[0m\n\u001b[1;33m    captains{\"Enterprise\" = \"Picard\"}\u001b[0m\n\u001b[1;37m            ^\u001b[0m\n\u001b[1;31mSyntaxError\u001b[0m\u001b[1;31m:\u001b[0m invalid syntax\n"
     ]
    }
   ],
   "source": [
    "captains = {}\n",
    "captains{\"Enterprise\" = \"Picard\"}\n",
    "captains{\"Voyager\" = \"Janeway\"}\n",
    "captains{\"Defiant\" = \"Sisko\"}\n",
    "captains"
   ]
  },
  {
   "cell_type": "code",
   "execution_count": 7,
   "id": "be84d110",
   "metadata": {},
   "outputs": [
    {
     "data": {
      "text/plain": [
       "{'Enterprise': 'Picard', 'Voyager': 'Janeway', 'Defiant': 'Sisko'}"
      ]
     },
     "execution_count": 7,
     "metadata": {},
     "output_type": "execute_result"
    }
   ],
   "source": [
    "captains = {}\n",
    "captains[\"Enterprise\"] = \"Picard\"\n",
    "captains[\"Voyager\"] = \"Janeway\"\n",
    "captains[\"Defiant\"] = \"Sisko\"\n",
    "captains"
   ]
  },
  {
   "cell_type": "code",
   "execution_count": 8,
   "id": "850c3467",
   "metadata": {},
   "outputs": [],
   "source": [
    "captains = {\n",
    "\"Enterprise\": \"Picard\",\n",
    "\"Voyager\": \"Janeway\",\n",
    "\"Defiant\": \"Sisko\",\n",
    "\"Discovery\": \"unknown\",\n",
    "}\n"
   ]
  },
  {
   "cell_type": "code",
   "execution_count": 9,
   "id": "6df61018",
   "metadata": {},
   "outputs": [
    {
     "name": "stdout",
     "output_type": "stream",
     "text": [
      "The [ship] is captained by [captain].\n",
      "The [ship] is captained by [captain].\n",
      "The [ship] is captained by [captain].\n",
      "The [ship] is captained by [captain].\n"
     ]
    }
   ],
   "source": [
    "for item in captains.items():\n",
    "    print(f\"The [ship] is captained by [captain].\")\n"
   ]
  },
  {
   "cell_type": "code",
   "execution_count": 10,
   "id": "ca2c6943",
   "metadata": {},
   "outputs": [
    {
     "name": "stdout",
     "output_type": "stream",
     "text": [
      "The Enterprise is captained by Picard.\n",
      "The Voyager is captained by Janeway.\n",
      "The Defiant is captained by Sisko.\n",
      "The Discovery is captained by unknown.\n"
     ]
    }
   ],
   "source": [
    "for ship, captain in captains.items():\n",
    "    print(f\"The {ship} is captained by {captain}.\")\n"
   ]
  },
  {
   "cell_type": "code",
   "execution_count": 11,
   "id": "a867e41a",
   "metadata": {},
   "outputs": [
    {
     "name": "stdout",
     "output_type": "stream",
     "text": [
      "The Picard is captained by Enterprise.\n",
      "The Janeway is captained by Voyager.\n",
      "The Sisko is captained by Defiant.\n",
      "The unknown is captained by Discovery.\n"
     ]
    }
   ],
   "source": [
    "for captain, ship in captains.items():\n",
    "    print(f\"The {ship} is captained by {captain}.\")\n"
   ]
  },
  {
   "cell_type": "code",
   "execution_count": 12,
   "id": "ab6c0ebb",
   "metadata": {},
   "outputs": [],
   "source": [
    "captains = {\n",
    "\"Enterprise\": \"Picard\",\n",
    "\"Voyager\": \"Janeway\",\n",
    "\"Defiant\": \"Sisko\",\n",
    "\"Discovery\": \"unknown\",\n",
    "}\n"
   ]
  },
  {
   "cell_type": "code",
   "execution_count": 14,
   "id": "5554abae",
   "metadata": {},
   "outputs": [
    {
     "ename": "AttributeError",
     "evalue": "'str' object has no attribute 'pop'",
     "output_type": "error",
     "traceback": [
      "\u001b[1;31m---------------------------------------------------------------------------\u001b[0m",
      "\u001b[1;31mAttributeError\u001b[0m                            Traceback (most recent call last)",
      "Input \u001b[1;32mIn [14]\u001b[0m, in \u001b[0;36m<cell line: 1>\u001b[1;34m()\u001b[0m\n\u001b[1;32m----> 1\u001b[0m \u001b[43mcaptains\u001b[49m\u001b[43m[\u001b[49m\u001b[38;5;124;43m\"\u001b[39;49m\u001b[38;5;124;43mDiscovery\u001b[39;49m\u001b[38;5;124;43m\"\u001b[39;49m\u001b[43m]\u001b[49m\u001b[38;5;241;43m.\u001b[39;49m\u001b[43mpop\u001b[49m()\n\u001b[0;32m      2\u001b[0m captains\n",
      "\u001b[1;31mAttributeError\u001b[0m: 'str' object has no attribute 'pop'"
     ]
    }
   ],
   "source": [
    "captains[\"Discovery\"].pop()\n",
    "captains"
   ]
  },
  {
   "cell_type": "code",
   "execution_count": 15,
   "id": "a9216b4c",
   "metadata": {},
   "outputs": [
    {
     "ename": "AttributeError",
     "evalue": "'dict' object has no attribute 'remove'",
     "output_type": "error",
     "traceback": [
      "\u001b[1;31m---------------------------------------------------------------------------\u001b[0m",
      "\u001b[1;31mAttributeError\u001b[0m                            Traceback (most recent call last)",
      "Input \u001b[1;32mIn [15]\u001b[0m, in \u001b[0;36m<cell line: 1>\u001b[1;34m()\u001b[0m\n\u001b[1;32m----> 1\u001b[0m \u001b[43mcaptains\u001b[49m\u001b[38;5;241;43m.\u001b[39;49m\u001b[43mremove\u001b[49m()\n\u001b[0;32m      2\u001b[0m captains\n",
      "\u001b[1;31mAttributeError\u001b[0m: 'dict' object has no attribute 'remove'"
     ]
    }
   ],
   "source": [
    "captains.remove()\n",
    "captains"
   ]
  },
  {
   "cell_type": "code",
   "execution_count": 16,
   "id": "856a2324",
   "metadata": {},
   "outputs": [
    {
     "ename": "NameError",
     "evalue": "name 'captains' is not defined",
     "output_type": "error",
     "traceback": [
      "\u001b[1;31m---------------------------------------------------------------------------\u001b[0m",
      "\u001b[1;31mNameError\u001b[0m                                 Traceback (most recent call last)",
      "Input \u001b[1;32mIn [16]\u001b[0m, in \u001b[0;36m<cell line: 2>\u001b[1;34m()\u001b[0m\n\u001b[0;32m      1\u001b[0m \u001b[38;5;28;01mdel\u001b[39;00m captains\n\u001b[1;32m----> 2\u001b[0m \u001b[43mcaptains\u001b[49m\n",
      "\u001b[1;31mNameError\u001b[0m: name 'captains' is not defined"
     ]
    }
   ],
   "source": [
    "del captains\n",
    "captains"
   ]
  },
  {
   "cell_type": "code",
   "execution_count": 17,
   "id": "d835362a",
   "metadata": {},
   "outputs": [],
   "source": [
    "captains = {\n",
    "\"Enterprise\": \"Picard\",\n",
    "\"Voyager\": \"Janeway\",\n",
    "\"Defiant\": \"Sisko\",\n",
    "\"Discovery\": \"unknown\",\n",
    "}\n"
   ]
  },
  {
   "cell_type": "code",
   "execution_count": 18,
   "id": "4e9de752",
   "metadata": {},
   "outputs": [
    {
     "data": {
      "text/plain": [
       "{'Enterprise': 'Picard',\n",
       " 'Voyager': 'Janeway',\n",
       " 'Defiant': 'Sisko',\n",
       " 'Discovery': 'unknown'}"
      ]
     },
     "execution_count": 18,
     "metadata": {},
     "output_type": "execute_result"
    }
   ],
   "source": [
    "captains"
   ]
  },
  {
   "cell_type": "code",
   "execution_count": 19,
   "id": "77eb1611",
   "metadata": {},
   "outputs": [],
   "source": [
    "del captains[\"Discovery\"]"
   ]
  },
  {
   "cell_type": "code",
   "execution_count": 20,
   "id": "52affef9",
   "metadata": {},
   "outputs": [
    {
     "data": {
      "text/plain": [
       "{'Enterprise': 'Picard', 'Voyager': 'Janeway', 'Defiant': 'Sisko'}"
      ]
     },
     "execution_count": 20,
     "metadata": {},
     "output_type": "execute_result"
    }
   ],
   "source": [
    "captains"
   ]
  },
  {
   "cell_type": "code",
   "execution_count": null,
   "id": "ca667fc1",
   "metadata": {},
   "outputs": [],
   "source": []
  }
 ],
 "metadata": {
  "kernelspec": {
   "display_name": "Python 3 (ipykernel)",
   "language": "python",
   "name": "python3"
  },
  "language_info": {
   "codemirror_mode": {
    "name": "ipython",
    "version": 3
   },
   "file_extension": ".py",
   "mimetype": "text/x-python",
   "name": "python",
   "nbconvert_exporter": "python",
   "pygments_lexer": "ipython3",
   "version": "3.9.12"
  }
 },
 "nbformat": 4,
 "nbformat_minor": 5
}
