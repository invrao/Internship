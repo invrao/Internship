{
 "cells": [
  {
   "cell_type": "markdown",
   "id": "9b9e0c3a",
   "metadata": {},
   "source": [
    "# 14. Write a python program to solve a quadratic equation of the form ax^2+bx+c=0. Where a, b and c are to be taken by user input. Handle the erroneous input, such as ‘a’ should not be equal to 0."
   ]
  },
  {
   "cell_type": "code",
   "execution_count": 10,
   "id": "10a74406",
   "metadata": {},
   "outputs": [
    {
     "name": "stdout",
     "output_type": "stream",
     "text": [
      "Enter the value of a: 2\n",
      "Enter the value of b: 4\n",
      "Enter the value of c: 1\n",
      "The roots are -0.2928932188134524 and -1.7071067811865475\n"
     ]
    }
   ],
   "source": [
    "# Import math module for square root function\n",
    "import math\n",
    "\n",
    "# Defining a function to solve quadratic equation\n",
    "def solve_quadratic(a, b, c):\n",
    "  # Check if a is not zero\n",
    "  if a != 0:\n",
    "    # Calculating the discriminant\n",
    "    d = b**2 - 4*a*c\n",
    "    # Checking if discriminant is positive, zero or negative\n",
    "    if d > 0:\n",
    "      # Two real and distinct roots\n",
    "      x1 = (-b + math.sqrt(d)) / (2*a)\n",
    "      x2 = (-b - math.sqrt(d)) / (2*a)\n",
    "      print(f\"The roots are {x1} and {x2}\")\n",
    "    elif d == 0:\n",
    "      # One real and repeated root\n",
    "      x = -b / (2*a)\n",
    "      print(f\"The root is {x}\")\n",
    "    else:\n",
    "      # No real roots\n",
    "      print(\"The equation has no real roots\")\n",
    "  else:\n",
    "    # Invalid input for quadratic equation\n",
    "    print(\"The value of a cannot be zero\")\n",
    "\n",
    "# Take user input for a, b and c\n",
    "try:\n",
    "  a = float(input(\"Enter the value of a: \"))\n",
    "  b = float(input(\"Enter the value of b: \"))\n",
    "  c = float(input(\"Enter the value of c: \"))\n",
    "except ValueError:\n",
    "  # Invalid input type\n",
    "  print(\"Please enter valid numbers\")\n",
    "else:\n",
    "  # Calling the function with user input values\n",
    "  solve_quadratic(a, b, c)"
   ]
  },
  {
   "cell_type": "markdown",
   "id": "5c4d3597",
   "metadata": {},
   "source": [
    "# 15. Write a python program to find the sum of first ‘n’ natural numbers without using any loop. Ask users to input the value of ‘n’"
   ]
  },
  {
   "cell_type": "code",
   "execution_count": 21,
   "id": "e79fbfce",
   "metadata": {},
   "outputs": [
    {
     "name": "stdout",
     "output_type": "stream",
     "text": [
      "Enter the value of n: 1000\n",
      "The sum of first 1000 natural numbers is 500500\n"
     ]
    }
   ],
   "source": [
    "# Define a recursive function to find the sum of first n natural numbers\n",
    "def sum_natural(n):\n",
    "  # Base case: n is 0 or 1\n",
    "  if n <= 1:\n",
    "    return n\n",
    "  # Recursive case: n is greater than 1\n",
    "  else:\n",
    "    return n + sum_natural(n-1)\n",
    "\n",
    "# Take user input for n\n",
    "try:\n",
    "  n = int(input(\"Enter the value of n: \"))\n",
    "except ValueError:\n",
    "  # Invalid input type\n",
    "  print(\"Please enter a valid integer\")\n",
    "else:\n",
    "  # Check if n is positive\n",
    "  if n > 0:\n",
    "    # Call the function with user input value\n",
    "    result = sum_natural(n)\n",
    "    print(f\"The sum of first {n} natural numbers is {result}\")\n",
    "  else:\n",
    "    # Invalid input for natural number\n",
    "    print(\"Please enter a positive integer\")"
   ]
  },
  {
   "cell_type": "code",
   "execution_count": 1,
   "id": "6e182584",
   "metadata": {},
   "outputs": [
    {
     "data": {
      "text/plain": [
       "0.33333333333333215"
      ]
     },
     "execution_count": 1,
     "metadata": {},
     "output_type": "execute_result"
    }
   ],
   "source": [
    "(28//6)**3/3%3"
   ]
  },
  {
   "cell_type": "code",
   "execution_count": 4,
   "id": "80ae2b73",
   "metadata": {},
   "outputs": [
    {
     "name": "stdout",
     "output_type": "stream",
     "text": [
      "Enter an integer23\n"
     ]
    }
   ],
   "source": [
    "a = input(\"Enter an integer\")"
   ]
  },
  {
   "cell_type": "code",
   "execution_count": 5,
   "id": "cdc6d8bb",
   "metadata": {},
   "outputs": [
    {
     "data": {
      "text/plain": [
       "'23'"
      ]
     },
     "execution_count": 5,
     "metadata": {},
     "output_type": "execute_result"
    }
   ],
   "source": [
    "a\n"
   ]
  },
  {
   "cell_type": "code",
   "execution_count": 14,
   "id": "d21c28fc",
   "metadata": {},
   "outputs": [
    {
     "name": "stdout",
     "output_type": "stream",
     "text": [
      "I Love Python\n"
     ]
    }
   ],
   "source": [
    "string = \"I+Love+Python\"\n",
    "new_string = string.replace(\"+\", \" \")\n",
    "print(new_string)"
   ]
  },
  {
   "cell_type": "code",
   "execution_count": 15,
   "id": "1bb23e4f",
   "metadata": {},
   "outputs": [
    {
     "name": "stdout",
     "output_type": "stream",
     "text": [
      "98\n"
     ]
    }
   ],
   "source": [
    "print(ord('b'))"
   ]
  },
  {
   "cell_type": "code",
   "execution_count": 16,
   "id": "b6eb52a6",
   "metadata": {},
   "outputs": [
    {
     "name": "stdout",
     "output_type": "stream",
     "text": [
      "66\n"
     ]
    }
   ],
   "source": [
    "print(ord('B'))"
   ]
  },
  {
   "cell_type": "code",
   "execution_count": 17,
   "id": "b525152e",
   "metadata": {},
   "outputs": [],
   "source": [
    "a = 10\n",
    "b = 'Hello'\n",
    "c = [1, 2, 3]\n",
    "d = (4, 5, 6)\n",
    "e = {'Name': \"INV\",'ID': '1234', 'age': 33}"
   ]
  },
  {
   "cell_type": "code",
   "execution_count": 18,
   "id": "06061255",
   "metadata": {},
   "outputs": [
    {
     "name": "stdout",
     "output_type": "stream",
     "text": [
      "<class 'int'>\n",
      "<class 'str'>\n",
      "<class 'list'>\n",
      "<class 'tuple'>\n",
      "<class 'dict'>\n"
     ]
    }
   ],
   "source": [
    "print(type(a))\n",
    "print(type(b))\n",
    "print(type(c))\n",
    "print(type(d))\n",
    "print(type(e))"
   ]
  },
  {
   "cell_type": "code",
   "execution_count": null,
   "id": "22870a6a",
   "metadata": {},
   "outputs": [],
   "source": []
  }
 ],
 "metadata": {
  "kernelspec": {
   "display_name": "Python 3 (ipykernel)",
   "language": "python",
   "name": "python3"
  },
  "language_info": {
   "codemirror_mode": {
    "name": "ipython",
    "version": 3
   },
   "file_extension": ".py",
   "mimetype": "text/x-python",
   "name": "python",
   "nbconvert_exporter": "python",
   "pygments_lexer": "ipython3",
   "version": "3.9.12"
  }
 },
 "nbformat": 4,
 "nbformat_minor": 5
}
