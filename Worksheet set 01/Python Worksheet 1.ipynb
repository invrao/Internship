{
 "cells": [
  {
   "cell_type": "markdown",
   "id": "64de0f07",
   "metadata": {},
   "source": [
    "# 11. Write a python program to find the factorial of a number."
   ]
  },
  {
   "cell_type": "code",
   "execution_count": 9,
   "id": "99d31d80",
   "metadata": {
    "scrolled": true
   },
   "outputs": [
    {
     "name": "stdout",
     "output_type": "stream",
     "text": [
      "Enter a number : 10\n",
      "Factorial for  10  is :  3628800\n"
     ]
    }
   ],
   "source": [
    "n = int(input(\"Enter a number : \"))\n",
    "fact = 1\n",
    "if n<0:\n",
    "    print(\"No factorial possible for negative numbers\")\n",
    "elif n==0:\n",
    "    print(\"Factorial for Zero is 1\")\n",
    "else:\n",
    "    for i in range(1,n+1):\n",
    "        fact=fact*i\n",
    "    print(\"Factorial for \",n,\" is : \",fact)"
   ]
  },
  {
   "cell_type": "markdown",
   "id": "b71bc42a",
   "metadata": {},
   "source": [
    "# 12. Write a python program to find whether a number is prime or composite.\n"
   ]
  },
  {
   "cell_type": "code",
   "execution_count": 42,
   "id": "35476a25",
   "metadata": {},
   "outputs": [
    {
     "name": "stdout",
     "output_type": "stream",
     "text": [
      "Enter a number : 27\n",
      "Its not a Prime Number\n"
     ]
    }
   ],
   "source": [
    "p = int(input(\"Enter a number : \"))\n",
    "\n",
    "if p<=1:\n",
    "    print(\"Its not a Prime number\")\n",
    "    \n",
    "elif p==2:\n",
    "    print(\"Its a Prime number\")\n",
    "\n",
    "elif p>2:\n",
    "    for i in range(2,int((p/2)+2)):\n",
    "        if p%i == 0:\n",
    "            print(\"Its a Composite Number\")\n",
    "            break\n",
    "    else:\n",
    "        print(\"Its a Prime Number\")\n",
    "    \n",
    "    "
   ]
  },
  {
   "cell_type": "markdown",
   "id": "e022e3fe",
   "metadata": {},
   "source": [
    "# 13. Write a python program to check whether a given string is palindrome or not."
   ]
  },
  {
   "cell_type": "code",
   "execution_count": 64,
   "id": "7df94547",
   "metadata": {},
   "outputs": [
    {
     "name": "stdout",
     "output_type": "stream",
     "text": [
      "Enter a word to check palindrome: Aibohphobia\n",
      "The given word  aibohphobia  is a Palindrome\n"
     ]
    }
   ],
   "source": [
    "a = str(input(\"Enter a word to check palindrome: \"))\n",
    "\n",
    "a = a.lower()\n",
    "\n",
    "for i in range(0,int(len(a)/2)):\n",
    "    if a[i] != a[(i*-1)-1]:\n",
    "        print(\"The given word \",a,\" is Not a Palindrome\")\n",
    "        break\n",
    "    else:\n",
    "        print(\"The given word \",a,\" is a Palindrome\")\n",
    "        break"
   ]
  },
  {
   "cell_type": "markdown",
   "id": "dedf557e",
   "metadata": {},
   "source": [
    "# 14. Write a Python program to get the third side of right-angled triangle from two given sides.\n"
   ]
  },
  {
   "cell_type": "code",
   "execution_count": 75,
   "id": "a176ad0c",
   "metadata": {},
   "outputs": [
    {
     "name": "stdout",
     "output_type": "stream",
     "text": [
      "Enter two sides and other side which is to be found out as str('x'), inside pythagoras(opposite_side,adjacent_side,hypotenuse) and run\n",
      "\n"
     ]
    }
   ],
   "source": [
    "print(\"Enter two sides and other side which is to be found out as str('x'), inside pythagoras(opposite_side,adjacent_side,hypotenuse) and run\")\n",
    "\n",
    "def pythagoras(opposite_side,adjacent_side,hypotenuse):\n",
    "        if opposite_side == str(\"x\"):\n",
    "            return (\"Opposite = \" + str(((hypotenuse**2) - (adjacent_side**2))**0.5))\n",
    "        elif adjacent_side == str(\"x\"):\n",
    "            return (\"Adjacent = \" + str(((hypotenuse**2) - (opposite_side**2))**0.5))\n",
    "        elif hypotenuse == str(\"x\"):\n",
    "            return (\"Hypotenuse = \" + str(((opposite_side**2) + (adjacent_side**2))**0.5))\n",
    "        "
   ]
  },
  {
   "cell_type": "code",
   "execution_count": 71,
   "id": "e85a282b",
   "metadata": {},
   "outputs": [
    {
     "data": {
      "text/plain": [
       "'Hypotenuse = 5.0'"
      ]
     },
     "execution_count": 71,
     "metadata": {},
     "output_type": "execute_result"
    }
   ],
   "source": [
    "pythagoras(3,4,str('x'))"
   ]
  },
  {
   "cell_type": "code",
   "execution_count": 72,
   "id": "6c51c56c",
   "metadata": {},
   "outputs": [
    {
     "data": {
      "text/plain": [
       "'Adjacent = 4.0'"
      ]
     },
     "execution_count": 72,
     "metadata": {},
     "output_type": "execute_result"
    }
   ],
   "source": [
    "pythagoras(3,str('x'),5)"
   ]
  },
  {
   "cell_type": "code",
   "execution_count": 73,
   "id": "635118ec",
   "metadata": {},
   "outputs": [
    {
     "data": {
      "text/plain": [
       "'Opposite = 8.06225774829855'"
      ]
     },
     "execution_count": 73,
     "metadata": {},
     "output_type": "execute_result"
    }
   ],
   "source": [
    "pythagoras(str('x'),4,9)"
   ]
  },
  {
   "cell_type": "markdown",
   "id": "8f0e071d",
   "metadata": {},
   "source": [
    "# 15. Write a python program to print the frequency of each of the characters present in a given string"
   ]
  },
  {
   "cell_type": "code",
   "execution_count": 2,
   "id": "025ee8f7",
   "metadata": {},
   "outputs": [
    {
     "name": "stdout",
     "output_type": "stream",
     "text": [
      "Enter A string: Bubble Gum\n",
      "Counter({'b': 3, 'u': 2, 'l': 1, 'e': 1, ' ': 1, 'g': 1, 'm': 1})\n"
     ]
    }
   ],
   "source": [
    "from collections import Counter\n",
    "\n",
    "word = input(\"Enter A string: \") #String without spaces, otherwise spaces will also be counted\n",
    "word = word.lower()\n",
    "print(Counter(word)) "
   ]
  },
  {
   "cell_type": "code",
   "execution_count": null,
   "id": "fda5ef25",
   "metadata": {},
   "outputs": [],
   "source": []
  }
 ],
 "metadata": {
  "kernelspec": {
   "display_name": "Python 3 (ipykernel)",
   "language": "python",
   "name": "python3"
  },
  "language_info": {
   "codemirror_mode": {
    "name": "ipython",
    "version": 3
   },
   "file_extension": ".py",
   "mimetype": "text/x-python",
   "name": "python",
   "nbconvert_exporter": "python",
   "pygments_lexer": "ipython3",
   "version": "3.9.12"
  }
 },
 "nbformat": 4,
 "nbformat_minor": 5
}
